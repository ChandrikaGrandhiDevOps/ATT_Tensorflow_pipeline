{
 "cells": [
  {
   "cell_type": "code",
   "execution_count": 97,
   "id": "7b83229a-7970-4ad6-9fea-9c4ede0a9d2b",
   "metadata": {},
   "outputs": [
    {
     "name": "stdout",
     "output_type": "stream",
     "text": [
      "b'TensorFlow\\\\AT&T Fiber\\\\at-t-fiber-installers-left-cable-exposed-outside-any-ideas-v0-ssdmcmz1439a1.jpg'\n",
      "b'TensorFlow\\\\AT&T Fiber\\\\vwlxds69637b1.jpg'\n",
      "b'TensorFlow\\\\iphones\\\\ios-18-iphone-15-pro-settings-general-software-update-automatic-updates.png'\n",
      "b'TensorFlow\\\\iphones\\\\75205401007-customize-2.jpg'\n",
      "b'TensorFlow\\\\iphones\\\\pexels-photo-818043.jpg'\n"
     ]
    }
   ],
   "source": [
    "import tensorflow as tf\n",
    "images_ds = tf.data.Dataset.list_files('TensorFlow/*/*', shuffle=True)\n",
    "for file in images_ds.take(5):\n",
    "    print(file.numpy())"
   ]
  },
  {
   "cell_type": "code",
   "execution_count": 98,
   "id": "778cebe3-415b-4e8a-8ebd-4277fdbadb27",
   "metadata": {},
   "outputs": [
    {
     "name": "stdout",
     "output_type": "stream",
     "text": [
      "tf.Tensor(b'TensorFlow\\\\iphones\\\\Download-iPhone-16e-wallpaper.jpg', shape=(), dtype=string)\n",
      "tf.Tensor(b'TensorFlow\\\\AT&T Fiber\\\\how-to-use-your-own-router-with-att-fiber.jpg', shape=(), dtype=string)\n",
      "tf.Tensor(b'TensorFlow\\\\AT&T Fiber\\\\att-fiber-pole-1152x648.jpg', shape=(), dtype=string)\n",
      "tf.Tensor(b'TensorFlow\\\\iphones\\\\ios-13-iphone.jpg', shape=(), dtype=string)\n",
      "tf.Tensor(b'TensorFlow\\\\iphones\\\\2021-09-23-ts3_thumbs-980.jpg', shape=(), dtype=string)\n",
      "tf.Tensor(b'TensorFlow\\\\AT&T Fiber\\\\com_a2d808f0-b34a-4b2b-9612-5a5f89699832_answers_4f7120d9-c0fe-4fe8-9be4-5c46637816b6_.png', shape=(), dtype=string)\n",
      "tf.Tensor(b'TensorFlow\\\\iphones\\\\iphone_15_hero1.png', shape=(), dtype=string)\n"
     ]
    }
   ],
   "source": [
    "images_ds = images_ds.shuffle(200)\n",
    "for file in images_ds.take(7):\n",
    "    print(file)"
   ]
  },
  {
   "cell_type": "code",
   "execution_count": 99,
   "id": "802454f0-23d3-4005-af6d-a053ee72c3e0",
   "metadata": {},
   "outputs": [],
   "source": [
    "class_names = [\"iphones\",\"AT&T Fiber\"]"
   ]
  },
  {
   "cell_type": "code",
   "execution_count": 100,
   "id": "f1adf26f-07c7-46b5-a424-e01f99955d05",
   "metadata": {},
   "outputs": [
    {
     "name": "stdout",
     "output_type": "stream",
     "text": [
      "165\n"
     ]
    }
   ],
   "source": [
    "image_count = len(images_ds)\n",
    "print(image_count)"
   ]
  },
  {
   "cell_type": "code",
   "execution_count": 101,
   "id": "6404d312-852b-492f-99e2-1104c78e61fb",
   "metadata": {},
   "outputs": [],
   "source": [
    "train_size = int(image_count*0.8)\n",
    "train_ds = images_ds.take(train_size)\n",
    "test_ds = images_ds.skip(train_size)"
   ]
  },
  {
   "cell_type": "code",
   "execution_count": 102,
   "id": "5234c340-7f1d-42f7-a59c-f9481558474a",
   "metadata": {},
   "outputs": [
    {
     "data": {
      "text/plain": [
       "132"
      ]
     },
     "execution_count": 102,
     "metadata": {},
     "output_type": "execute_result"
    }
   ],
   "source": [
    "len(train_ds)"
   ]
  },
  {
   "cell_type": "code",
   "execution_count": 103,
   "id": "9134b900-c64e-40f4-953c-d12a06d50972",
   "metadata": {},
   "outputs": [
    {
     "data": {
      "text/plain": [
       "33"
      ]
     },
     "execution_count": 103,
     "metadata": {},
     "output_type": "execute_result"
    }
   ],
   "source": [
    "len(test_ds)"
   ]
  },
  {
   "cell_type": "code",
   "execution_count": 104,
   "id": "57e4ba0d-4d84-4b86-b6b3-3bcfe95cd745",
   "metadata": {},
   "outputs": [
    {
     "data": {
      "text/plain": [
       "['TensorFlow', 'AT&T Fiber', 'wifi-gateway.jpg']"
      ]
     },
     "execution_count": 104,
     "metadata": {},
     "output_type": "execute_result"
    }
   ],
   "source": [
    "s = 'TensorFlow\\\\AT&T Fiber\\\\wifi-gateway.jpg'\n",
    "s.split(\"\\\\\")"
   ]
  },
  {
   "cell_type": "code",
   "execution_count": 105,
   "id": "ebba339d-dfc0-4adb-a19f-ac55bf84c3bf",
   "metadata": {},
   "outputs": [],
   "source": [
    "def get_label(file_path):\n",
    "    import os\n",
    "    return tf.strings.split(file_path, os.path.sep)[-2]\n",
    "    "
   ]
  },
  {
   "cell_type": "code",
   "execution_count": 106,
   "id": "1349889a-f33a-402b-97c2-6042f5282db7",
   "metadata": {},
   "outputs": [
    {
     "name": "stdout",
     "output_type": "stream",
     "text": [
      "tf.Tensor(b'TensorFlow\\\\AT&T Fiber\\\\hq720 (2).jpg', shape=(), dtype=string)\n",
      "tf.Tensor(b'TensorFlow\\\\iphones\\\\tWHEq5HUsSpiELwDRh4cu3.jpg', shape=(), dtype=string)\n"
     ]
    }
   ],
   "source": [
    "for t in train_ds.take(2):\n",
    "    print(t)"
   ]
  },
  {
   "cell_type": "code",
   "execution_count": 107,
   "id": "c7878574-c398-4908-b8bf-1f5b762b45c0",
   "metadata": {},
   "outputs": [
    {
     "name": "stdout",
     "output_type": "stream",
     "text": [
      "tf.Tensor(b'iphones', shape=(), dtype=string)\n",
      "tf.Tensor(b'AT&T Fiber', shape=(), dtype=string)\n",
      "tf.Tensor(b'AT&T Fiber', shape=(), dtype=string)\n",
      "tf.Tensor(b'AT&T Fiber', shape=(), dtype=string)\n",
      "tf.Tensor(b'iphones', shape=(), dtype=string)\n",
      "tf.Tensor(b'iphones', shape=(), dtype=string)\n",
      "tf.Tensor(b'iphones', shape=(), dtype=string)\n",
      "tf.Tensor(b'AT&T Fiber', shape=(), dtype=string)\n",
      "tf.Tensor(b'iphones', shape=(), dtype=string)\n",
      "tf.Tensor(b'AT&T Fiber', shape=(), dtype=string)\n",
      "tf.Tensor(b'iphones', shape=(), dtype=string)\n",
      "tf.Tensor(b'iphones', shape=(), dtype=string)\n",
      "tf.Tensor(b'AT&T Fiber', shape=(), dtype=string)\n",
      "tf.Tensor(b'AT&T Fiber', shape=(), dtype=string)\n",
      "tf.Tensor(b'AT&T Fiber', shape=(), dtype=string)\n",
      "tf.Tensor(b'iphones', shape=(), dtype=string)\n",
      "tf.Tensor(b'iphones', shape=(), dtype=string)\n",
      "tf.Tensor(b'iphones', shape=(), dtype=string)\n",
      "tf.Tensor(b'iphones', shape=(), dtype=string)\n",
      "tf.Tensor(b'AT&T Fiber', shape=(), dtype=string)\n",
      "tf.Tensor(b'iphones', shape=(), dtype=string)\n",
      "tf.Tensor(b'AT&T Fiber', shape=(), dtype=string)\n",
      "tf.Tensor(b'iphones', shape=(), dtype=string)\n",
      "tf.Tensor(b'AT&T Fiber', shape=(), dtype=string)\n",
      "tf.Tensor(b'iphones', shape=(), dtype=string)\n",
      "tf.Tensor(b'AT&T Fiber', shape=(), dtype=string)\n",
      "tf.Tensor(b'iphones', shape=(), dtype=string)\n",
      "tf.Tensor(b'AT&T Fiber', shape=(), dtype=string)\n",
      "tf.Tensor(b'AT&T Fiber', shape=(), dtype=string)\n",
      "tf.Tensor(b'AT&T Fiber', shape=(), dtype=string)\n",
      "tf.Tensor(b'AT&T Fiber', shape=(), dtype=string)\n",
      "tf.Tensor(b'AT&T Fiber', shape=(), dtype=string)\n",
      "tf.Tensor(b'AT&T Fiber', shape=(), dtype=string)\n",
      "tf.Tensor(b'AT&T Fiber', shape=(), dtype=string)\n",
      "tf.Tensor(b'AT&T Fiber', shape=(), dtype=string)\n",
      "tf.Tensor(b'iphones', shape=(), dtype=string)\n",
      "tf.Tensor(b'AT&T Fiber', shape=(), dtype=string)\n",
      "tf.Tensor(b'AT&T Fiber', shape=(), dtype=string)\n",
      "tf.Tensor(b'AT&T Fiber', shape=(), dtype=string)\n",
      "tf.Tensor(b'AT&T Fiber', shape=(), dtype=string)\n",
      "tf.Tensor(b'AT&T Fiber', shape=(), dtype=string)\n",
      "tf.Tensor(b'iphones', shape=(), dtype=string)\n",
      "tf.Tensor(b'AT&T Fiber', shape=(), dtype=string)\n",
      "tf.Tensor(b'AT&T Fiber', shape=(), dtype=string)\n",
      "tf.Tensor(b'AT&T Fiber', shape=(), dtype=string)\n",
      "tf.Tensor(b'AT&T Fiber', shape=(), dtype=string)\n",
      "tf.Tensor(b'AT&T Fiber', shape=(), dtype=string)\n",
      "tf.Tensor(b'AT&T Fiber', shape=(), dtype=string)\n",
      "tf.Tensor(b'AT&T Fiber', shape=(), dtype=string)\n",
      "tf.Tensor(b'AT&T Fiber', shape=(), dtype=string)\n",
      "tf.Tensor(b'iphones', shape=(), dtype=string)\n",
      "tf.Tensor(b'AT&T Fiber', shape=(), dtype=string)\n",
      "tf.Tensor(b'AT&T Fiber', shape=(), dtype=string)\n",
      "tf.Tensor(b'iphones', shape=(), dtype=string)\n",
      "tf.Tensor(b'iphones', shape=(), dtype=string)\n",
      "tf.Tensor(b'AT&T Fiber', shape=(), dtype=string)\n",
      "tf.Tensor(b'AT&T Fiber', shape=(), dtype=string)\n",
      "tf.Tensor(b'iphones', shape=(), dtype=string)\n",
      "tf.Tensor(b'AT&T Fiber', shape=(), dtype=string)\n",
      "tf.Tensor(b'AT&T Fiber', shape=(), dtype=string)\n",
      "tf.Tensor(b'AT&T Fiber', shape=(), dtype=string)\n",
      "tf.Tensor(b'iphones', shape=(), dtype=string)\n",
      "tf.Tensor(b'iphones', shape=(), dtype=string)\n",
      "tf.Tensor(b'AT&T Fiber', shape=(), dtype=string)\n",
      "tf.Tensor(b'AT&T Fiber', shape=(), dtype=string)\n",
      "tf.Tensor(b'AT&T Fiber', shape=(), dtype=string)\n",
      "tf.Tensor(b'iphones', shape=(), dtype=string)\n",
      "tf.Tensor(b'AT&T Fiber', shape=(), dtype=string)\n",
      "tf.Tensor(b'iphones', shape=(), dtype=string)\n",
      "tf.Tensor(b'AT&T Fiber', shape=(), dtype=string)\n",
      "tf.Tensor(b'iphones', shape=(), dtype=string)\n",
      "tf.Tensor(b'iphones', shape=(), dtype=string)\n",
      "tf.Tensor(b'iphones', shape=(), dtype=string)\n",
      "tf.Tensor(b'AT&T Fiber', shape=(), dtype=string)\n",
      "tf.Tensor(b'iphones', shape=(), dtype=string)\n",
      "tf.Tensor(b'AT&T Fiber', shape=(), dtype=string)\n",
      "tf.Tensor(b'iphones', shape=(), dtype=string)\n",
      "tf.Tensor(b'iphones', shape=(), dtype=string)\n",
      "tf.Tensor(b'AT&T Fiber', shape=(), dtype=string)\n",
      "tf.Tensor(b'AT&T Fiber', shape=(), dtype=string)\n",
      "tf.Tensor(b'AT&T Fiber', shape=(), dtype=string)\n",
      "tf.Tensor(b'iphones', shape=(), dtype=string)\n",
      "tf.Tensor(b'AT&T Fiber', shape=(), dtype=string)\n",
      "tf.Tensor(b'AT&T Fiber', shape=(), dtype=string)\n",
      "tf.Tensor(b'iphones', shape=(), dtype=string)\n",
      "tf.Tensor(b'iphones', shape=(), dtype=string)\n",
      "tf.Tensor(b'iphones', shape=(), dtype=string)\n",
      "tf.Tensor(b'iphones', shape=(), dtype=string)\n",
      "tf.Tensor(b'AT&T Fiber', shape=(), dtype=string)\n",
      "tf.Tensor(b'iphones', shape=(), dtype=string)\n",
      "tf.Tensor(b'AT&T Fiber', shape=(), dtype=string)\n",
      "tf.Tensor(b'AT&T Fiber', shape=(), dtype=string)\n",
      "tf.Tensor(b'AT&T Fiber', shape=(), dtype=string)\n",
      "tf.Tensor(b'iphones', shape=(), dtype=string)\n",
      "tf.Tensor(b'iphones', shape=(), dtype=string)\n",
      "tf.Tensor(b'AT&T Fiber', shape=(), dtype=string)\n",
      "tf.Tensor(b'AT&T Fiber', shape=(), dtype=string)\n",
      "tf.Tensor(b'iphones', shape=(), dtype=string)\n",
      "tf.Tensor(b'AT&T Fiber', shape=(), dtype=string)\n",
      "tf.Tensor(b'iphones', shape=(), dtype=string)\n",
      "tf.Tensor(b'iphones', shape=(), dtype=string)\n",
      "tf.Tensor(b'iphones', shape=(), dtype=string)\n",
      "tf.Tensor(b'iphones', shape=(), dtype=string)\n",
      "tf.Tensor(b'AT&T Fiber', shape=(), dtype=string)\n",
      "tf.Tensor(b'AT&T Fiber', shape=(), dtype=string)\n",
      "tf.Tensor(b'AT&T Fiber', shape=(), dtype=string)\n",
      "tf.Tensor(b'AT&T Fiber', shape=(), dtype=string)\n",
      "tf.Tensor(b'iphones', shape=(), dtype=string)\n",
      "tf.Tensor(b'AT&T Fiber', shape=(), dtype=string)\n",
      "tf.Tensor(b'iphones', shape=(), dtype=string)\n",
      "tf.Tensor(b'AT&T Fiber', shape=(), dtype=string)\n",
      "tf.Tensor(b'iphones', shape=(), dtype=string)\n",
      "tf.Tensor(b'iphones', shape=(), dtype=string)\n",
      "tf.Tensor(b'AT&T Fiber', shape=(), dtype=string)\n",
      "tf.Tensor(b'AT&T Fiber', shape=(), dtype=string)\n",
      "tf.Tensor(b'AT&T Fiber', shape=(), dtype=string)\n",
      "tf.Tensor(b'AT&T Fiber', shape=(), dtype=string)\n",
      "tf.Tensor(b'iphones', shape=(), dtype=string)\n",
      "tf.Tensor(b'AT&T Fiber', shape=(), dtype=string)\n",
      "tf.Tensor(b'iphones', shape=(), dtype=string)\n",
      "tf.Tensor(b'iphones', shape=(), dtype=string)\n",
      "tf.Tensor(b'iphones', shape=(), dtype=string)\n",
      "tf.Tensor(b'AT&T Fiber', shape=(), dtype=string)\n",
      "tf.Tensor(b'AT&T Fiber', shape=(), dtype=string)\n",
      "tf.Tensor(b'iphones', shape=(), dtype=string)\n",
      "tf.Tensor(b'AT&T Fiber', shape=(), dtype=string)\n",
      "tf.Tensor(b'iphones', shape=(), dtype=string)\n",
      "tf.Tensor(b'iphones', shape=(), dtype=string)\n",
      "tf.Tensor(b'AT&T Fiber', shape=(), dtype=string)\n",
      "tf.Tensor(b'iphones', shape=(), dtype=string)\n",
      "tf.Tensor(b'iphones', shape=(), dtype=string)\n",
      "tf.Tensor(b'iphones', shape=(), dtype=string)\n"
     ]
    }
   ],
   "source": [
    "for label in train_ds.map(get_label):\n",
    "    print(label)"
   ]
  },
  {
   "cell_type": "code",
   "execution_count": 108,
   "id": "12b24032-2b02-4783-b46d-7952c5e1d0b0",
   "metadata": {},
   "outputs": [],
   "source": [
    "def process_image(file_path):\n",
    "    label = get_label(file_path)\n",
    "    img = tf.io.read_file(file_path)\n",
    "    img = tf.image.decode_jpeg(img)\n",
    "    img = tf.image.resize(img, [128,128])\n",
    "\n",
    "    return img,label"
   ]
  },
  {
   "cell_type": "code",
   "execution_count": 109,
   "id": "bafb3660-e9cf-475b-8b1b-85a1623f4f94",
   "metadata": {},
   "outputs": [
    {
     "name": "stdout",
     "output_type": "stream",
     "text": [
      "Image: tf.Tensor(\n",
      "[[[242.       241.49026  245.01947 ]\n",
      "  [242.       241.74033  244.51935 ]\n",
      "  [243.       243.       245.      ]\n",
      "  ...\n",
      "  [233.       232.       237.      ]\n",
      "  [233.       232.       237.      ]\n",
      "  [233.       232.       237.      ]]\n",
      "\n",
      " [[242.       241.       246.      ]\n",
      "  [242.       242.       243.98438 ]\n",
      "  [242.78516  242.78516  243.42578 ]\n",
      "  ...\n",
      "  [232.78516  231.78516  236.78516 ]\n",
      "  [232.78516  231.78516  236.78516 ]\n",
      "  [232.78516  231.78516  236.78516 ]]\n",
      "\n",
      " [[242.       242.       244.      ]\n",
      "  [242.       242.       243.9892  ]\n",
      "  [241.       241.       241.64062 ]\n",
      "  ...\n",
      "  [231.       230.       235.      ]\n",
      "  [231.       230.       235.      ]\n",
      "  [231.       230.       235.      ]]\n",
      "\n",
      " ...\n",
      "\n",
      " [[ 48.147217  54.416748  27.283936]\n",
      "  [ 25.071808  32.71875   17.443817]\n",
      "  [ 33.520386  37.223846  23.223846]\n",
      "  ...\n",
      "  [ 92.19922  128.8164   140.95074 ]\n",
      "  [ 87.52185  125.52667  135.75864 ]\n",
      "  [ 85.64935  123.64935  133.0592  ]]\n",
      "\n",
      " [[ 89.96188   99.22714   52.29373 ]\n",
      "  [ 41.20816   42.125     16.788513]\n",
      "  [ 50.137543  45.315735  25.165222]\n",
      "  ...\n",
      "  [ 87.07422  125.57721  137.25839 ]\n",
      "  [ 88.431366 126.5798   143.97043 ]\n",
      "  [ 86.94345  125.17337  137.25781 ]]\n",
      "\n",
      " [[ 38.77115   43.591583  11.9039  ]\n",
      "  [ 88.27902   84.72937   48.411285]\n",
      "  [ 73.4523    66.03314   45.46042 ]\n",
      "  ...\n",
      "  [ 97.89093  135.8071   149.0586  ]\n",
      "  [ 99.00168  135.99591  154.23996 ]\n",
      "  [ 84.71472  122.63846  135.14435 ]]], shape=(128, 128, 3), dtype=float32)\n",
      "Label: tf.Tensor(b'AT&T Fiber', shape=(), dtype=string)\n",
      "Image: tf.Tensor(\n",
      "[[[  0.      198.      251.      255.     ]\n",
      "  [  0.      198.      251.      255.     ]\n",
      "  [  0.      198.      251.      255.     ]\n",
      "  ...\n",
      "  [  0.      198.      251.      255.     ]\n",
      "  [  0.      198.      251.      255.     ]\n",
      "  [  0.      198.      251.      255.     ]]\n",
      "\n",
      " [[  0.      197.      250.      255.     ]\n",
      "  [  0.      197.      250.      255.     ]\n",
      "  [  0.      197.      250.      255.     ]\n",
      "  ...\n",
      "  [  0.      197.      250.      255.     ]\n",
      "  [  0.      197.      250.      255.     ]\n",
      "  [  0.      197.      250.      255.     ]]\n",
      "\n",
      " [[  0.      196.      249.26953 255.     ]\n",
      "  [  0.      196.      249.26953 255.     ]\n",
      "  [  0.      196.      249.26953 255.     ]\n",
      "  ...\n",
      "  [  0.      196.      249.26953 255.     ]\n",
      "  [  0.      196.      249.26953 255.     ]\n",
      "  [  0.      196.      249.26953 255.     ]]\n",
      "\n",
      " ...\n",
      "\n",
      " [[  0.      122.      178.      255.     ]\n",
      "  [  0.      122.      178.      255.     ]\n",
      "  [  0.      122.      178.      255.     ]\n",
      "  ...\n",
      "  [  0.      122.      178.      255.     ]\n",
      "  [  0.      122.      178.      255.     ]\n",
      "  [  0.      122.      178.      255.     ]]\n",
      "\n",
      " [[  0.      121.      177.      255.     ]\n",
      "  [  0.      121.      177.      255.     ]\n",
      "  [  0.      121.      177.      255.     ]\n",
      "  ...\n",
      "  [  0.      121.      177.      255.     ]\n",
      "  [  0.      121.      177.      255.     ]\n",
      "  [  0.      121.      177.      255.     ]]\n",
      "\n",
      " [[  0.      120.74609 177.      255.     ]\n",
      "  [  0.      120.74609 177.      255.     ]\n",
      "  [  0.      120.74609 177.      255.     ]\n",
      "  ...\n",
      "  [  0.      120.74609 177.      255.     ]\n",
      "  [  0.      120.74609 177.      255.     ]\n",
      "  [  0.      120.74609 177.      255.     ]]], shape=(128, 128, 4), dtype=float32)\n",
      "Label: tf.Tensor(b'AT&T Fiber', shape=(), dtype=string)\n",
      "Image: tf.Tensor(\n",
      "[[[0. 0. 0.]\n",
      "  [0. 0. 0.]\n",
      "  [0. 0. 0.]\n",
      "  ...\n",
      "  [0. 0. 0.]\n",
      "  [0. 0. 0.]\n",
      "  [0. 0. 0.]]\n",
      "\n",
      " [[0. 0. 0.]\n",
      "  [0. 0. 0.]\n",
      "  [0. 0. 0.]\n",
      "  ...\n",
      "  [0. 0. 0.]\n",
      "  [0. 0. 0.]\n",
      "  [0. 0. 0.]]\n",
      "\n",
      " [[0. 0. 0.]\n",
      "  [0. 0. 0.]\n",
      "  [0. 0. 0.]\n",
      "  ...\n",
      "  [0. 0. 0.]\n",
      "  [0. 0. 0.]\n",
      "  [0. 0. 0.]]\n",
      "\n",
      " ...\n",
      "\n",
      " [[0. 0. 0.]\n",
      "  [0. 0. 0.]\n",
      "  [0. 0. 0.]\n",
      "  ...\n",
      "  [0. 0. 0.]\n",
      "  [0. 0. 0.]\n",
      "  [0. 0. 0.]]\n",
      "\n",
      " [[0. 0. 0.]\n",
      "  [0. 0. 0.]\n",
      "  [0. 0. 0.]\n",
      "  ...\n",
      "  [0. 0. 0.]\n",
      "  [0. 0. 0.]\n",
      "  [0. 0. 0.]]\n",
      "\n",
      " [[0. 0. 0.]\n",
      "  [0. 0. 0.]\n",
      "  [0. 0. 0.]\n",
      "  ...\n",
      "  [0. 0. 0.]\n",
      "  [0. 0. 0.]\n",
      "  [0. 0. 0.]]], shape=(128, 128, 3), dtype=float32)\n",
      "Label: tf.Tensor(b'iphones', shape=(), dtype=string)\n"
     ]
    }
   ],
   "source": [
    "train_ds = train_ds.map(process_image)\n",
    "for img, label in train_ds.take(3):\n",
    "    print(\"Image:\",img)\n",
    "    print(\"Label:\", label)"
   ]
  },
  {
   "cell_type": "code",
   "execution_count": 111,
   "id": "427604ed-dd04-4859-85cf-45b41ba12ade",
   "metadata": {},
   "outputs": [],
   "source": [
    "def scale(image, label):\n",
    "    return image/255, label"
   ]
  },
  {
   "cell_type": "code",
   "execution_count": 112,
   "id": "de429762-3d1c-46e0-9551-7995896db222",
   "metadata": {},
   "outputs": [
    {
     "name": "stdout",
     "output_type": "stream",
     "text": [
      "Image: [0.85882354 0.81960785 0.78431374]\n",
      "Label: b'AT&T Fiber'\n",
      "Image: [0.04258578 0.06515012 0.02882966]\n",
      "Label: b'AT&T Fiber'\n",
      "Image: [0.1536313  0.13197075 0.13701059]\n",
      "Label: b'AT&T Fiber'\n"
     ]
    }
   ],
   "source": [
    "train_ds = train_ds.map(scale)\n",
    "for image, label in train_ds.take(3):\n",
    "    print(\"Image:\",image.numpy()[0][0])\n",
    "    print(\"Label:\",label.numpy())"
   ]
  },
  {
   "cell_type": "code",
   "execution_count": null,
   "id": "d0db35ba-6e4a-4eaf-86a2-664a192a86e5",
   "metadata": {},
   "outputs": [],
   "source": []
  }
 ],
 "metadata": {
  "kernelspec": {
   "display_name": "Python 3 (ipykernel)",
   "language": "python",
   "name": "python3"
  },
  "language_info": {
   "codemirror_mode": {
    "name": "ipython",
    "version": 3
   },
   "file_extension": ".py",
   "mimetype": "text/x-python",
   "name": "python",
   "nbconvert_exporter": "python",
   "pygments_lexer": "ipython3",
   "version": "3.11.5"
  }
 },
 "nbformat": 4,
 "nbformat_minor": 5
}
